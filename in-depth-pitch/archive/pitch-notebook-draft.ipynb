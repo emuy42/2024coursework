{
 "cells": [
  {
   "cell_type": "code",
   "execution_count": 1,
   "id": "e566c5f5",
   "metadata": {},
   "outputs": [],
   "source": [
    "## import libraries -- the mapping inequality data is json\n",
    "import json"
   ]
  },
  {
   "cell_type": "code",
   "execution_count": 3,
   "id": "c51d51c2",
   "metadata": {},
   "outputs": [],
   "source": [
    "## open json file\n",
    "f = open ('geojson.json')"
   ]
  },
  {
   "cell_type": "code",
   "execution_count": 4,
   "id": "367086ae",
   "metadata": {},
   "outputs": [],
   "source": [
    "## \n",
    "data = json.load(f)"
   ]
  }
 ],
 "metadata": {
  "kernelspec": {
   "display_name": "Python 3 (ipykernel)",
   "language": "python",
   "name": "python3"
  },
  "language_info": {
   "codemirror_mode": {
    "name": "ipython",
    "version": 3
   },
   "file_extension": ".py",
   "mimetype": "text/x-python",
   "name": "python",
   "nbconvert_exporter": "python",
   "pygments_lexer": "ipython3",
   "version": "3.11.5"
  }
 },
 "nbformat": 4,
 "nbformat_minor": 5
}
